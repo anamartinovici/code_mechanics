{
 "cells": [
  {
   "cell_type": "markdown",
   "id": "09a5b901-ae6f-43b6-8937-0ad3500ca68b",
   "metadata": {},
   "source": [
    "\n",
    "## Epoching and Artefact Rejection"
   ]
  },
  {
   "cell_type": "code",
   "execution_count": 1,
   "id": "885e401c-a154-40b0-85c2-8ed457fa654e",
   "metadata": {},
   "outputs": [],
   "source": [
    "import mne\n",
    "import pandas as pd\n",
    "import scipy.io\n",
    "import os\n",
    "import numpy as np\n",
    "from scipy.io import loadmat  # this is the SciPy module that loads mat-files\n",
    "import matplotlib.pyplot as plt\n",
    "from datetime import datetime, date, time\n",
    "from os.path import join as opj\n",
    "from glob import glob\n",
    "from pyprep.prep_pipeline import PrepPipeline\n",
    "import time\n",
    "from mne_bids import BIDSPath, read_raw_bids, print_dir_tree, make_report\n",
    "from autoreject import AutoReject\n",
    "\n",
    "\n",
    "def ensure_dir(ed):\n",
    "    import os\n",
    "    try:\n",
    "        os.makedirs(ed)\n",
    "    except OSError:\n",
    "        if not os.path.isdir(ed):\n",
    "            raise\n"
   ]
  },
  {
   "cell_type": "code",
   "execution_count": null,
   "id": "7e6f2f2f-98e5-4540-83cf-61a58ad234f5",
   "metadata": {},
   "outputs": [
    {
     "name": "stdout",
     "output_type": "stream",
     "text": [
      "sub-001\n",
      "Opening raw data file ../eeg_BIDS/Preprocessed/sub-001/sub-001_task_after_ica_raw_unfiltered.fif...\n"
     ]
    },
    {
     "name": "stderr",
     "output_type": "stream",
     "text": [
      "<ipython-input-3-d6a99bdeb11e>:17: RuntimeWarning: This filename (../eeg_BIDS/Preprocessed/sub-001/sub-001_task_after_ica_raw_unfiltered.fif) does not conform to MNE naming conventions. All raw files should end with raw.fif, raw_sss.fif, raw_tsss.fif, _meg.fif, _eeg.fif, _ieeg.fif, raw.fif.gz, raw_sss.fif.gz, raw_tsss.fif.gz, _meg.fif.gz, _eeg.fif.gz or _ieeg.fif.gz\n",
      "  prepro_data = mne.io.read_raw_fif(glob(opj(prepro_dir, '*unf*'))[0], preload=True)\n"
     ]
    },
    {
     "name": "stdout",
     "output_type": "stream",
     "text": [
      "    Range : 0 ... 2541055 =      0.000 ...  4962.998 secs\n",
      "Ready.\n",
      "Reading 0 ... 2541055  =      0.000 ...  4962.998 secs...\n",
      "Filtering raw data in 1 contiguous segment\n",
      "Setting up high-pass filter at 0.1 Hz\n",
      "\n",
      "FIR filter parameters\n",
      "---------------------\n",
      "Designing a one-pass, zero-phase, non-causal highpass filter:\n",
      "- Windowed time-domain design (firwin) method\n",
      "- Hamming window with 0.0194 passband ripple and 53 dB stopband attenuation\n",
      "- Lower passband edge: 0.10\n",
      "- Lower transition bandwidth: 0.10 Hz (-6 dB cutoff frequency: 0.05 Hz)\n",
      "- Filter length: 16897 samples (33.002 sec)\n",
      "\n",
      "Not setting metadata\n",
      "Not setting metadata\n",
      "1200 matching events found\n",
      "No baseline correction applied\n",
      "0 projection items activated\n",
      "Loading data for 1200 events and 359 original time points ...\n",
      "0 bad epochs dropped\n",
      "Overwriting existing file.\n"
     ]
    },
    {
     "name": "stderr",
     "output_type": "stream",
     "text": [
      "<ipython-input-3-d6a99bdeb11e>:46: RuntimeWarning: This filename (../eeg_BIDS/Epoched/sub-001-epo-ERP_RQ1_0.1_HP_.fif) does not conform to MNE naming conventions. All epochs files should end with -epo.fif, -epo.fif.gz, _epo.fif or _epo.fif.gz\n",
      "  epoched_data.save(opj(epoch_dir,subject+'-epo-ERP_RQ1_'+str(cutoff_l)+'_HP_.fif'), overwrite=True)\n",
      "/home/speer/anaconda3/lib/python3.8/site-packages/autoreject/utils.py:66: UserWarning: 2 channels are marked as bad. These will be ignored. If you want them to be considered by autoreject please remove them from epochs.info[\"bads\"].\n",
      "  warnings.warn(\n"
     ]
    },
    {
     "name": "stdout",
     "output_type": "stream",
     "text": [
      "Running autoreject on ch_type=eeg\n"
     ]
    },
    {
     "data": {
      "application/vnd.jupyter.widget-view+json": {
       "model_id": "f5946f3344744c918de695071fb20194",
       "version_major": 2,
       "version_minor": 0
      },
      "text/plain": [
       "  0%|          | Creating augmented epochs : 0/62 [00:00<?,       ?it/s]"
      ]
     },
     "metadata": {},
     "output_type": "display_data"
    },
    {
     "data": {
      "application/vnd.jupyter.widget-view+json": {
       "model_id": "8588d78e7589414da80188e2b0774c79",
       "version_major": 2,
       "version_minor": 0
      },
      "text/plain": [
       "  0%|          | Computing thresholds ... : 0/62 [00:00<?,       ?it/s]"
      ]
     },
     "metadata": {},
     "output_type": "display_data"
    },
    {
     "data": {
      "application/vnd.jupyter.widget-view+json": {
       "model_id": "f28cabd9a54d40fc804c2a9b746a8b5f",
       "version_major": 2,
       "version_minor": 0
      },
      "text/plain": [
       "  0%|          | Repairing epochs : 0/1200 [00:00<?,       ?it/s]"
      ]
     },
     "metadata": {},
     "output_type": "display_data"
    },
    {
     "data": {
      "application/vnd.jupyter.widget-view+json": {
       "model_id": "9e1a950cc4024c7b81db6e81c062b54d",
       "version_major": 2,
       "version_minor": 0
      },
      "text/plain": [
       "  0%|          | n_interp : 0/3 [00:00<?,       ?it/s]"
      ]
     },
     "metadata": {},
     "output_type": "display_data"
    },
    {
     "data": {
      "application/vnd.jupyter.widget-view+json": {
       "model_id": "e136253c68d841f2b86de816f953032a",
       "version_major": 2,
       "version_minor": 0
      },
      "text/plain": [
       "  0%|          | Repairing epochs : 0/1200 [00:00<?,       ?it/s]"
      ]
     },
     "metadata": {},
     "output_type": "display_data"
    },
    {
     "data": {
      "application/vnd.jupyter.widget-view+json": {
       "model_id": "fd920d7a53be4ab6a3acb7478c34971d",
       "version_major": 2,
       "version_minor": 0
      },
      "text/plain": [
       "  0%|          | Fold : 0/10 [00:00<?,       ?it/s]"
      ]
     },
     "metadata": {},
     "output_type": "display_data"
    },
    {
     "data": {
      "application/vnd.jupyter.widget-view+json": {
       "model_id": "f8777670778c4ed2a375519c68b36f04",
       "version_major": 2,
       "version_minor": 0
      },
      "text/plain": [
       "  0%|          | Repairing epochs : 0/1200 [00:00<?,       ?it/s]"
      ]
     },
     "metadata": {},
     "output_type": "display_data"
    },
    {
     "data": {
      "application/vnd.jupyter.widget-view+json": {
       "model_id": "2f49cc347775494197f65e21a33f9cbb",
       "version_major": 2,
       "version_minor": 0
      },
      "text/plain": [
       "  0%|          | Fold : 0/10 [00:00<?,       ?it/s]"
      ]
     },
     "metadata": {},
     "output_type": "display_data"
    },
    {
     "data": {
      "application/vnd.jupyter.widget-view+json": {
       "model_id": "9e0b81970e8a493b919838fbebb1fe51",
       "version_major": 2,
       "version_minor": 0
      },
      "text/plain": [
       "  0%|          | Repairing epochs : 0/1200 [00:00<?,       ?it/s]"
      ]
     },
     "metadata": {},
     "output_type": "display_data"
    },
    {
     "data": {
      "application/vnd.jupyter.widget-view+json": {
       "model_id": "9918e0fc17394aa297ff14d0b95b04a1",
       "version_major": 2,
       "version_minor": 0
      },
      "text/plain": [
       "  0%|          | Fold : 0/10 [00:00<?,       ?it/s]"
      ]
     },
     "metadata": {},
     "output_type": "display_data"
    }
   ],
   "source": [
    "'''\n",
    "load preprocessed data\n",
    "'''\n",
    "\n",
    "# starting from a relative path /eeg_BIDS which you should also have\n",
    "bids_root = '../eeg_BIDS/'\n",
    "\n",
    "subs = [ name for name in os.listdir(bids_root) if name.startswith('sub') ]\n",
    "\n",
    "n_jobs = 10\n",
    "\n",
    "for subject in subs:\n",
    "    \n",
    "    print(subject)\n",
    "\n",
    "    prepro_dir = opj(bids_root,'Preprocessed',subject)\n",
    "    prepro_data = mne.io.read_raw_fif(glob(opj(prepro_dir, '*unf*'))[0], preload=True)\n",
    "\n",
    "\n",
    "\n",
    "    # Filtering is needed before artefact rejection see: https://autoreject.github.io/stable/auto_examples/plot_autoreject_workflow.html#plot-autoreject-workflow\n",
    "    cutoff_l = 0.1\n",
    "    prepro_data_highpass = prepro_data.copy().filter(l_freq=cutoff_l, h_freq=None)\n",
    "\n",
    "    events_dir = '/data04/Sebastian/EMP/events/'\n",
    "\n",
    "    events_csv = pd.read_csv(glob(opj(events_dir,'EMP'+subject[-2:]+'*.csv'))[0])\n",
    "    events = events_csv[['latency','trial','trigger']].to_numpy(dtype = int)\n",
    "\n",
    "    new_events=mne.merge_events(events,range(1000,1999),1000, replace_events=True)\n",
    "    new_events=mne.merge_events(new_events,range(2000,2999),2000, replace_events=True)\n",
    "\n",
    "    #---------- Epoching and Artefact Rejection -------------#\n",
    "\n",
    "    events_of_interest = {\n",
    "        'manmade': 1000,\n",
    "        'natural': 2000}\n",
    "\n",
    "    # epoching the data to -200ms before stimulus onset to 500 ms after stimulus onset when the pictures disappears\n",
    "    epoched_data = mne.Epochs(prepro_data_highpass, new_events, tmin=-0.2, tmax=0.5,baseline=None,\n",
    "                        event_id =events_of_interest,\n",
    "                        reject_by_annotation=False, preload=True)\n",
    "\n",
    "    epoch_dir = opj(bids_root,'Epoched')\n",
    "    ensure_dir(epoch_dir)\n",
    "    epoched_data.save(opj(epoch_dir,subject+'-epo-ERP_RQ1_'+str(cutoff_l)+'_HP_.fif'), overwrite=True)\n",
    "\n",
    "\n",
    "    ar = AutoReject(verbose='tqdm_notebook', n_jobs=n_jobs, random_state=234)\n",
    "    epoched_data_clean_ar, rejection_log_fix = ar.fit_transform(epoched_data, return_log=True)\n",
    "\n",
    "    autoreject_dir = opj(bids_root,'AutoReject')\n",
    "    ensure_dir(autoreject_dir)\n",
    "    epoched_data_clean_ar.save(opj(autoreject_dir,subject+'-epo-ERP_RQ1_autoreject_'+str(cutoff_l)+'_HP_.fif'), overwrite = True)\n",
    "    # extract the indices of the dropped epochs and save them to a txt file\n",
    "\n",
    "    dropped_epochs = list(np.where(rejection_log_fix.bad_epochs)[0])\n",
    "\n",
    "    with open(opj(autoreject_dir,subject+'_droppedEpochs.txt'), 'w') as file:\n",
    "        for x in dropped_epochs:\n",
    "            file.write(\"%i\\n\" % x)"
   ]
  }
 ],
 "metadata": {
  "kernelspec": {
   "display_name": "Python 3 (ipykernel)",
   "language": "python",
   "name": "python3"
  },
  "language_info": {
   "codemirror_mode": {
    "name": "ipython",
    "version": 3
   },
   "file_extension": ".py",
   "mimetype": "text/x-python",
   "name": "python",
   "nbconvert_exporter": "python",
   "pygments_lexer": "ipython3",
   "version": "3.9.7"
  }
 },
 "nbformat": 4,
 "nbformat_minor": 5
}
